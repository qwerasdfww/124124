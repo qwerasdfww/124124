{
 "cells": [
  {
   "cell_type": "markdown",
   "id": "49b2bb3f-8a94-4aba-bf67-6b97d86c0047",
   "metadata": {},
   "source": [
    "# OOP (2024 Fall) HW1: 불변 순서쌍을 활용해 가변 순서쌍 만들기 \n",
    "- 이름: 김동혁\n",
    "- 학번: 20210546\n",
    "\n",
    "여기 홍길동, 99999999 대신 본인의 이름, 학번 작성"
   ]
  },
  {
   "cell_type": "markdown",
   "id": "9c3c24aa-19ac-4c88-a228-0d1686034a24",
   "metadata": {},
   "source": [
    "-----\n",
    "## Part A: 불변 순서쌍 Pair\n",
    "1. 클래스(또는 정적) 팩토리 메소드 `of`를 를 수정하여 완성하라.\n",
    "    - https://velog.io/@cjh8746/%EC%A0%95%EC%A0%81-%ED%8C%A9%ED%86%A0%EB%A6%AC-%EB%A9%94%EC%84%9C%EB%93%9CStatic-Factory-Method\n",
    "1. 주석 부분을 풀어 제너릭 클래스인 `Pair`가 제너릭 인터페이스 `Comparable`를 구현하도록 완성하라.\n",
    "    - https://docs.oracle.com/en/java/javase/22/docs/api/java.base/java/lang/Comparable.html"
   ]
  },
  {
   "cell_type": "code",
   "execution_count": 2,
   "id": "f2b4bcb7-9d9c-494a-9762-ca0700c6f762",
   "metadata": {},
   "outputs": [],
   "source": [
    "record Pair<F extends Comparable<F>, S extends Comparable<S>>(F first, S second) implements Comparable<Pair<F, S>> {\n",
    "\n",
    "    static <F extends Comparable<F>, S extends Comparable<S>> Pair<F, S> of(F first, S second) {\n",
    "        return new Pair<>(first, second);\n",
    "    }\n",
    "\n",
    "    @Override\n",
    "    public int compareTo(Pair<F, S> other) {\n",
    "        int firstComparison = this.first.compareTo(other.first);\n",
    "        if (firstComparison != 0) {\n",
    "            return firstComparison;\n",
    "        }\n",
    "        return this.second.compareTo(other.second);\n",
    "    }\n",
    "}"
   ]
  },
  {
   "cell_type": "code",
   "execution_count": 3,
   "id": "5fb5b2ac-4ac0-40cc-9f87-1675177e4baa",
   "metadata": {},
   "outputs": [],
   "source": [
    "public class Main {\n",
    "    public static void main(String[] args) {\n",
    "        Pair<Integer, String> pair1 = Pair.of(5, \"Apple\");\n",
    "        Pair<Integer, String> pair2 = Pair.of(3, \"Banana\");\n",
    "        System.out.println(pair1.compareTo(pair2));\n",
    "\n",
    "        Pair<Integer, String> pair3 = Pair.of(2, \"Apple\");\n",
    "        Pair<Integer, String> pair4 = Pair.of(3, \"Banana\");\n",
    "        System.out.println(pair3.compareTo(pair4));\n",
    "\n",
    "        Pair<Integer, String> pair5 = Pair.of(3, \"Apple\");\n",
    "        Pair<Integer, String> pair6 = Pair.of(3, \"Apple\");\n",
    "        System.out.println(pair5.compareTo(pair6));\n",
    "    }\n",
    "}\n"
   ]
  },
  {
   "cell_type": "code",
   "execution_count": 4,
   "id": "ebde597b-436f-44a5-816b-d7c6796c461b",
   "metadata": {},
   "outputs": [
    {
     "name": "stdout",
     "output_type": "stream",
     "text": [
      "1\n",
      "-1\n",
      "0\n"
     ]
    }
   ],
   "source": [
    "Main.main(null);"
   ]
  },
  {
   "cell_type": "markdown",
   "id": "e2774a64-250e-4e89-a536-5a8ed42bb4ce",
   "metadata": {},
   "source": [
    "------"
   ]
  },
  {
   "cell_type": "markdown",
   "id": "75e7845a-c04f-4f78-8362-6b31acf2618d",
   "metadata": {},
   "source": [
    "-----\n",
    "## Part B: 가변 순서쌍 ModifiablePair\n",
    "불변 순서쌍만을 priviate 필드로 갖고 있는 가변 순서쌍 제너릭 클래스를 작성하라\n",
    "\n",
    "가변 순서쌍은 불변 순서쌍과 마찬가지 이름의 getter 메소드가 있고 추가로 setter 메소드도 있다.\n",
    "\n",
    "또, 가변 순서쌍도 불변 순서쌍과 마찬가지로 Comparable 제너릭 인터페이스를 구현하라."
   ]
  },
  {
   "cell_type": "code",
   "execution_count": 5,
   "id": "e64d2c40-1bf8-483c-b893-2a75d39f6778",
   "metadata": {},
   "outputs": [],
   "source": [
    "public class ModifiablePair<F extends Comparable<F>, S extends Comparable<S>> implements Comparable<ModifiablePair<F, S>> {\n",
    "    private Pair<F, S> pair;\n",
    "\n",
    "    public ModifiablePair(F first, S second) {\n",
    "        this.pair = Pair.of(first, second);\n",
    "    }\n",
    "\n",
    "    public F first() {\n",
    "        return pair.first();\n",
    "    }\n",
    "\n",
    "    public S second() {\n",
    "        return pair.second();\n",
    "    }\n",
    "\n",
    "    public void setFirst(F first) {\n",
    "        this.pair = Pair.of(first, pair.second());\n",
    "    }\n",
    "\n",
    "    public void setSecond(S second) {\n",
    "        this.pair = Pair.of(pair.first(), second);\n",
    "    }\n",
    "\n",
    "    @Override\n",
    "    public int compareTo(ModifiablePair<F, S> other) {\n",
    "        return this.pair.compareTo(other.pair);\n",
    "    }\n",
    "\n",
    "    @Override\n",
    "    public String toString() {\n",
    "        return pair.toString();\n",
    "    }\n",
    "}"
   ]
  },
  {
   "cell_type": "code",
   "execution_count": 6,
   "id": "57af3b33-b9db-43bd-a8e7-5b35d97aaf5e",
   "metadata": {},
   "outputs": [
    {
     "name": "stdout",
     "output_type": "stream",
     "text": [
      "Initial values:\n",
      "First: 10\n",
      "Second: initial\n"
     ]
    }
   ],
   "source": [
    "ModifiablePair<Integer, String> mp = new ModifiablePair<>(10, \"initial\");\n",
    "System.out.println(\"Initial values:\");\n",
    "System.out.println(\"First: \" + mp.first());\n",
    "System.out.println(\"Second: \" + mp.second());"
   ]
  },
  {
   "cell_type": "code",
   "execution_count": 7,
   "id": "2f3838c5-be67-44f6-b1fc-422c699cc090",
   "metadata": {},
   "outputs": [
    {
     "name": "stdout",
     "output_type": "stream",
     "text": [
      "After setting first to 20:\n",
      "First: 20\n",
      "Second: initial\n"
     ]
    }
   ],
   "source": [
    "mp.setFirst(20);\n",
    "System.out.println(\"After setting first to 20:\");\n",
    "System.out.println(\"First: \" + mp.first());\n",
    "System.out.println(\"Second: \" + mp.second());"
   ]
  },
  {
   "cell_type": "code",
   "execution_count": 8,
   "id": "e6ae6088-e88c-445f-af8b-6fab453a6c2e",
   "metadata": {},
   "outputs": [
    {
     "name": "stdout",
     "output_type": "stream",
     "text": [
      "After setting second to 'updated':\n",
      "First: 20\n",
      "Second: updated\n"
     ]
    }
   ],
   "source": [
    "mp.setSecond(\"updated\");\n",
    "System.out.println(\"After setting second to 'updated':\");\n",
    "System.out.println(\"First: \" + mp.first());\n",
    "System.out.println(\"Second: \" + mp.second());"
   ]
  },
  {
   "cell_type": "code",
   "execution_count": 9,
   "id": "b879bc4e-4c68-4692-8efe-1c44b33aba47",
   "metadata": {},
   "outputs": [
    {
     "name": "stdout",
     "output_type": "stream",
     "text": [
      "After setting first to 30 and second to 'final':\n",
      "First: 30\n",
      "Second: final\n"
     ]
    }
   ],
   "source": [
    "mp.setFirst(30);\n",
    "mp.setSecond(\"final\");\n",
    "System.out.println(\"After setting first to 30 and second to 'final':\");\n",
    "System.out.println(\"First: \" + mp.first());\n",
    "System.out.println(\"Second: \" + mp.second());"
   ]
  },
  {
   "cell_type": "code",
   "execution_count": 10,
   "id": "f1acce01-2c51-4e19-83d9-a8e472a55185",
   "metadata": {},
   "outputs": [
    {
     "name": "stdout",
     "output_type": "stream",
     "text": [
      "Compare (5, 'apple') vs (3, 'banana'):\n",
      "1\n"
     ]
    }
   ],
   "source": [
    "ModifiablePair<Integer, String> mp1 = new ModifiablePair<>(5, \"apple\");\n",
    "ModifiablePair<Integer, String> mp2 = new ModifiablePair<>(3, \"banana\");\n",
    "\n",
    "System.out.println(\"Compare (5, 'apple') vs (3, 'banana'):\");\n",
    "System.out.println(mp1.compareTo(mp2));"
   ]
  },
  {
   "cell_type": "code",
   "execution_count": 11,
   "id": "0c896b08-ee4d-410a-af6c-336c0769774a",
   "metadata": {},
   "outputs": [
    {
     "name": "stdout",
     "output_type": "stream",
     "text": [
      "Compare (3, 'apple') vs (3, 'banana'):\n",
      "-1\n"
     ]
    }
   ],
   "source": [
    "ModifiablePair<Integer, String> mp5 = new ModifiablePair<>(3, \"apple\");\n",
    "ModifiablePair<Integer, String> mp6 = new ModifiablePair<>(3, \"banana\");\n",
    "\n",
    "System.out.println(\"Compare (3, 'apple') vs (3, 'banana'):\");\n",
    "System.out.println(mp5.compareTo(mp6));"
   ]
  },
  {
   "cell_type": "code",
   "execution_count": 12,
   "id": "f237a0aa-0d72-459e-8ca6-e8e5a22882ec",
   "metadata": {},
   "outputs": [
    {
     "name": "stdout",
     "output_type": "stream",
     "text": [
      "Hello, Java!\n"
     ]
    }
   ],
   "source": [
    "System.out.println(\"Hello, Java!\");"
   ]
  }
 ],
 "metadata": {
  "kernelspec": {
   "display_name": "Java (rjk 2.1.0)",
   "language": "java",
   "name": "rapaio-jupyter-kernel"
  },
  "language_info": {
   "codemirror_mode": "java",
   "file_extension": ".jshell",
   "mimetype": "text/x-java-source",
   "name": "java",
   "nbconvert_exporter": "script",
   "pygments_lexer": "java",
   "version": "22.0.2+9"
  }
 },
 "nbformat": 4,
 "nbformat_minor": 5
}
